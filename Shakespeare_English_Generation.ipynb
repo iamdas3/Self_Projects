{
  "nbformat": 4,
  "nbformat_minor": 0,
  "metadata": {
    "colab": {
      "name": "Shakespeare_English_Generation.ipynb",
      "provenance": [],
      "authorship_tag": "ABX9TyPoQoTJmNBGH0uiAHc4ucJR",
      "include_colab_link": true
    },
    "kernelspec": {
      "name": "python3",
      "display_name": "Python 3"
    }
  },
  "cells": [
    {
      "cell_type": "markdown",
      "metadata": {
        "id": "view-in-github",
        "colab_type": "text"
      },
      "source": [
        "<a href=\"https://colab.research.google.com/github/iamdas3/Self_Projects/blob/master/Shakespeare_English_Generation.ipynb\" target=\"_parent\"><img src=\"https://colab.research.google.com/assets/colab-badge.svg\" alt=\"Open In Colab\"/></a>"
      ]
    },
    {
      "cell_type": "code",
      "metadata": {
        "id": "k1aZIHQm-qZa",
        "colab_type": "code",
        "colab": {}
      },
      "source": [
        "from tensorflow.keras.preprocessing.sequence import pad_sequences\n",
        "from tensorflow.keras.layers import Embedding, LSTM, Dense, Dropout, Bidirectional\n",
        "from tensorflow.keras.preprocessing.text import Tokenizer\n",
        "from tensorflow.keras.models import Sequential\n",
        "from tensorflow.keras.optimizers import Adam\n",
        "from tensorflow.keras import regularizers\n",
        "import tensorflow.keras.utils as ku \n",
        "import numpy as np "
      ],
      "execution_count": 1,
      "outputs": []
    },
    {
      "cell_type": "code",
      "metadata": {
        "id": "2yyzn8fe-4-a",
        "colab_type": "code",
        "colab": {
          "base_uri": "https://localhost:8080/",
          "height": 204
        },
        "outputId": "b236e3ba-7349-4ac1-aa68-7f86ca5f9811"
      },
      "source": [
        "tokenizer = Tokenizer()\n",
        "!wget --no-check-certificate \\\n",
        "    https://storage.googleapis.com/laurencemoroney-blog.appspot.com/sonnets.txt \\\n",
        "    -O /tmp/sonnets.txt\n",
        "data = open('/tmp/sonnets.txt').read()\n",
        "\n",
        "corpus = data.lower().split(\"\\n\")\n",
        "\n",
        "\n",
        "tokenizer.fit_on_texts(corpus)\n",
        "total_words = len(tokenizer.word_index) + 1\n",
        "\n",
        "input_sequences = []\n",
        "for line in corpus:\n",
        "\ttoken_list = tokenizer.texts_to_sequences([line])[0]\n",
        "\tfor i in range(1, len(token_list)):\n",
        "\t\tn_gram_sequence = token_list[:i+1]\n",
        "\t\tinput_sequences.append(n_gram_sequence)\n",
        "\n",
        "max_sequence_len = max([len(x) for x in input_sequences])\n",
        "input_sequences = np.array(pad_sequences(input_sequences, maxlen=max_sequence_len, padding='pre'))\n",
        "\n",
        "predictors, label = input_sequences[:,:-1],input_sequences[:,-1]\n",
        "\n",
        "label = ku.to_categorical(label, num_classes=total_words)"
      ],
      "execution_count": 2,
      "outputs": [
        {
          "output_type": "stream",
          "text": [
            "--2020-08-25 04:59:14--  https://storage.googleapis.com/laurencemoroney-blog.appspot.com/sonnets.txt\n",
            "Resolving storage.googleapis.com (storage.googleapis.com)... 173.194.216.128, 172.217.204.128, 172.217.203.128, ...\n",
            "Connecting to storage.googleapis.com (storage.googleapis.com)|173.194.216.128|:443... connected.\n",
            "HTTP request sent, awaiting response... 200 OK\n",
            "Length: 93578 (91K) [text/plain]\n",
            "Saving to: ‘/tmp/sonnets.txt’\n",
            "\n",
            "/tmp/sonnets.txt    100%[===================>]  91.38K  --.-KB/s    in 0.001s  \n",
            "\n",
            "2020-08-25 04:59:14 (77.4 MB/s) - ‘/tmp/sonnets.txt’ saved [93578/93578]\n",
            "\n"
          ],
          "name": "stdout"
        }
      ]
    },
    {
      "cell_type": "code",
      "metadata": {
        "id": "bwQXIZ7G_Ahw",
        "colab_type": "code",
        "colab": {
          "base_uri": "https://localhost:8080/",
          "height": 374
        },
        "outputId": "f5e8a85d-66aa-4b2a-8238-f672671116ce"
      },
      "source": [
        "model = Sequential()\n",
        "model.add(Embedding(total_words, 100, input_length=max_sequence_len-1))\n",
        "model.add(Bidirectional(LSTM(150, return_sequences = True)))\n",
        "model.add(Dropout(0.2))\n",
        "model.add(LSTM(100))\n",
        "model.add(Dense(total_words/2, activation='relu', kernel_regularizer=regularizers.l2(0.01)))\n",
        "model.add(Dense(total_words, activation='softmax'))\n",
        "model.compile(loss='categorical_crossentropy', optimizer='adam', metrics=['accuracy'])\n",
        "print(model.summary())\n"
      ],
      "execution_count": 3,
      "outputs": [
        {
          "output_type": "stream",
          "text": [
            "Model: \"sequential\"\n",
            "_________________________________________________________________\n",
            "Layer (type)                 Output Shape              Param #   \n",
            "=================================================================\n",
            "embedding (Embedding)        (None, 10, 100)           321100    \n",
            "_________________________________________________________________\n",
            "bidirectional (Bidirectional (None, 10, 300)           301200    \n",
            "_________________________________________________________________\n",
            "dropout (Dropout)            (None, 10, 300)           0         \n",
            "_________________________________________________________________\n",
            "lstm_1 (LSTM)                (None, 100)               160400    \n",
            "_________________________________________________________________\n",
            "dense (Dense)                (None, 1605)              162105    \n",
            "_________________________________________________________________\n",
            "dense_1 (Dense)              (None, 3211)              5156866   \n",
            "=================================================================\n",
            "Total params: 6,101,671\n",
            "Trainable params: 6,101,671\n",
            "Non-trainable params: 0\n",
            "_________________________________________________________________\n",
            "None\n"
          ],
          "name": "stdout"
        }
      ]
    },
    {
      "cell_type": "code",
      "metadata": {
        "id": "UWqxMBQm_Dad",
        "colab_type": "code",
        "colab": {
          "base_uri": "https://localhost:8080/",
          "height": 1000
        },
        "outputId": "b2ea531c-4422-4e6d-f8db-1a269c7b9e88"
      },
      "source": [
        " history = model.fit(predictors, label, epochs=100, verbose=1)"
      ],
      "execution_count": 4,
      "outputs": [
        {
          "output_type": "stream",
          "text": [
            "Epoch 1/100\n",
            "484/484 [==============================] - 53s 111ms/step - loss: 6.9017 - accuracy: 0.0230\n",
            "Epoch 2/100\n",
            "484/484 [==============================] - 52s 108ms/step - loss: 6.5000 - accuracy: 0.0234\n",
            "Epoch 3/100\n",
            "484/484 [==============================] - 51s 106ms/step - loss: 6.4113 - accuracy: 0.0252\n",
            "Epoch 4/100\n",
            "484/484 [==============================] - 51s 105ms/step - loss: 6.3039 - accuracy: 0.0294\n",
            "Epoch 5/100\n",
            "484/484 [==============================] - 51s 106ms/step - loss: 6.2051 - accuracy: 0.0369\n",
            "Epoch 6/100\n",
            "484/484 [==============================] - 51s 105ms/step - loss: 6.1245 - accuracy: 0.0376\n",
            "Epoch 7/100\n",
            "484/484 [==============================] - 51s 106ms/step - loss: 6.0505 - accuracy: 0.0404\n",
            "Epoch 8/100\n",
            "484/484 [==============================] - 50s 104ms/step - loss: 5.9728 - accuracy: 0.0426\n",
            "Epoch 9/100\n",
            "484/484 [==============================] - 51s 104ms/step - loss: 5.8758 - accuracy: 0.0509\n",
            "Epoch 10/100\n",
            "484/484 [==============================] - 51s 105ms/step - loss: 5.7605 - accuracy: 0.0565\n",
            "Epoch 11/100\n",
            "484/484 [==============================] - 50s 104ms/step - loss: 5.6513 - accuracy: 0.0627\n",
            "Epoch 12/100\n",
            "484/484 [==============================] - 50s 103ms/step - loss: 5.5412 - accuracy: 0.0678\n",
            "Epoch 13/100\n",
            "484/484 [==============================] - 51s 104ms/step - loss: 5.4324 - accuracy: 0.0765\n",
            "Epoch 14/100\n",
            "484/484 [==============================] - 50s 103ms/step - loss: 5.3217 - accuracy: 0.0816\n",
            "Epoch 15/100\n",
            "484/484 [==============================] - 50s 103ms/step - loss: 5.2129 - accuracy: 0.0893\n",
            "Epoch 16/100\n",
            "484/484 [==============================] - 50s 103ms/step - loss: 5.1090 - accuracy: 0.0977\n",
            "Epoch 17/100\n",
            "484/484 [==============================] - 51s 105ms/step - loss: 4.9972 - accuracy: 0.1029\n",
            "Epoch 18/100\n",
            "484/484 [==============================] - 51s 104ms/step - loss: 4.8883 - accuracy: 0.1119\n",
            "Epoch 19/100\n",
            "484/484 [==============================] - 51s 106ms/step - loss: 4.7891 - accuracy: 0.1184\n",
            "Epoch 20/100\n",
            "484/484 [==============================] - 50s 104ms/step - loss: 4.6810 - accuracy: 0.1298\n",
            "Epoch 21/100\n",
            "484/484 [==============================] - 51s 105ms/step - loss: 4.5825 - accuracy: 0.1363\n",
            "Epoch 22/100\n",
            "484/484 [==============================] - 51s 105ms/step - loss: 4.4751 - accuracy: 0.1491\n",
            "Epoch 23/100\n",
            "484/484 [==============================] - 51s 105ms/step - loss: 4.3750 - accuracy: 0.1590\n",
            "Epoch 24/100\n",
            "484/484 [==============================] - 51s 105ms/step - loss: 4.2652 - accuracy: 0.1703\n",
            "Epoch 25/100\n",
            "484/484 [==============================] - 50s 104ms/step - loss: 4.1656 - accuracy: 0.1845\n",
            "Epoch 26/100\n",
            "484/484 [==============================] - 50s 104ms/step - loss: 4.0535 - accuracy: 0.2009\n",
            "Epoch 27/100\n",
            "484/484 [==============================] - 50s 103ms/step - loss: 3.9584 - accuracy: 0.2134\n",
            "Epoch 28/100\n",
            "484/484 [==============================] - 50s 104ms/step - loss: 3.8485 - accuracy: 0.2302\n",
            "Epoch 29/100\n",
            "484/484 [==============================] - 51s 105ms/step - loss: 3.7543 - accuracy: 0.2482\n",
            "Epoch 30/100\n",
            "484/484 [==============================] - 50s 104ms/step - loss: 3.6521 - accuracy: 0.2659\n",
            "Epoch 31/100\n",
            "484/484 [==============================] - 51s 104ms/step - loss: 3.5547 - accuracy: 0.2875\n",
            "Epoch 32/100\n",
            "484/484 [==============================] - 51s 105ms/step - loss: 3.4621 - accuracy: 0.3090\n",
            "Epoch 33/100\n",
            "484/484 [==============================] - 51s 105ms/step - loss: 3.3756 - accuracy: 0.3271\n",
            "Epoch 34/100\n",
            "484/484 [==============================] - 50s 104ms/step - loss: 3.2898 - accuracy: 0.3518\n",
            "Epoch 35/100\n",
            "484/484 [==============================] - 51s 105ms/step - loss: 3.2086 - accuracy: 0.3656\n",
            "Epoch 36/100\n",
            "484/484 [==============================] - 51s 104ms/step - loss: 3.1228 - accuracy: 0.3872\n",
            "Epoch 37/100\n",
            "484/484 [==============================] - 50s 104ms/step - loss: 3.0501 - accuracy: 0.4015\n",
            "Epoch 38/100\n",
            "484/484 [==============================] - 50s 104ms/step - loss: 2.9671 - accuracy: 0.4166\n",
            "Epoch 39/100\n",
            "484/484 [==============================] - 51s 105ms/step - loss: 2.9011 - accuracy: 0.4316\n",
            "Epoch 40/100\n",
            "484/484 [==============================] - 50s 104ms/step - loss: 2.8344 - accuracy: 0.4505\n",
            "Epoch 41/100\n",
            "484/484 [==============================] - 51s 105ms/step - loss: 2.7636 - accuracy: 0.4702\n",
            "Epoch 42/100\n",
            "484/484 [==============================] - 51s 106ms/step - loss: 2.6959 - accuracy: 0.4849\n",
            "Epoch 43/100\n",
            "484/484 [==============================] - 52s 107ms/step - loss: 2.6378 - accuracy: 0.4937\n",
            "Epoch 44/100\n",
            "484/484 [==============================] - 52s 107ms/step - loss: 2.5773 - accuracy: 0.5081\n",
            "Epoch 45/100\n",
            "484/484 [==============================] - 51s 105ms/step - loss: 2.5160 - accuracy: 0.5213\n",
            "Epoch 46/100\n",
            "484/484 [==============================] - 51s 105ms/step - loss: 2.4717 - accuracy: 0.5328\n",
            "Epoch 47/100\n",
            "484/484 [==============================] - 51s 106ms/step - loss: 2.4375 - accuracy: 0.5356\n",
            "Epoch 48/100\n",
            "484/484 [==============================] - 51s 105ms/step - loss: 2.3671 - accuracy: 0.5542\n",
            "Epoch 49/100\n",
            "484/484 [==============================] - 51s 106ms/step - loss: 2.3100 - accuracy: 0.5671\n",
            "Epoch 50/100\n",
            "484/484 [==============================] - 52s 106ms/step - loss: 2.2693 - accuracy: 0.5774\n",
            "Epoch 51/100\n",
            "484/484 [==============================] - 51s 106ms/step - loss: 2.2255 - accuracy: 0.5847\n",
            "Epoch 52/100\n",
            "484/484 [==============================] - 51s 106ms/step - loss: 2.1756 - accuracy: 0.5971\n",
            "Epoch 53/100\n",
            "484/484 [==============================] - 52s 107ms/step - loss: 2.1275 - accuracy: 0.6099\n",
            "Epoch 54/100\n",
            "484/484 [==============================] - 51s 106ms/step - loss: 2.1003 - accuracy: 0.6124\n",
            "Epoch 55/100\n",
            "484/484 [==============================] - 51s 105ms/step - loss: 2.0607 - accuracy: 0.6180\n",
            "Epoch 56/100\n",
            "484/484 [==============================] - 52s 108ms/step - loss: 2.0159 - accuracy: 0.6351\n",
            "Epoch 57/100\n",
            "484/484 [==============================] - 51s 106ms/step - loss: 1.9696 - accuracy: 0.6405\n",
            "Epoch 58/100\n",
            "484/484 [==============================] - 51s 106ms/step - loss: 1.9500 - accuracy: 0.6433\n",
            "Epoch 59/100\n",
            "484/484 [==============================] - 52s 106ms/step - loss: 1.9258 - accuracy: 0.6508\n",
            "Epoch 60/100\n",
            "484/484 [==============================] - 52s 107ms/step - loss: 1.8789 - accuracy: 0.6602\n",
            "Epoch 61/100\n",
            "484/484 [==============================] - 51s 106ms/step - loss: 1.8376 - accuracy: 0.6702\n",
            "Epoch 62/100\n",
            "484/484 [==============================] - 52s 108ms/step - loss: 1.8073 - accuracy: 0.6751\n",
            "Epoch 63/100\n",
            "484/484 [==============================] - 52s 107ms/step - loss: 1.7744 - accuracy: 0.6837\n",
            "Epoch 64/100\n",
            "484/484 [==============================] - 52s 107ms/step - loss: 1.7466 - accuracy: 0.6901\n",
            "Epoch 65/100\n",
            "484/484 [==============================] - 52s 108ms/step - loss: 1.7257 - accuracy: 0.6921\n",
            "Epoch 66/100\n",
            "484/484 [==============================] - 51s 106ms/step - loss: 1.6980 - accuracy: 0.6986\n",
            "Epoch 67/100\n",
            "484/484 [==============================] - 51s 106ms/step - loss: 1.6669 - accuracy: 0.7048\n",
            "Epoch 68/100\n",
            "484/484 [==============================] - 52s 108ms/step - loss: 1.6427 - accuracy: 0.7100\n",
            "Epoch 69/100\n",
            "484/484 [==============================] - 51s 106ms/step - loss: 1.6184 - accuracy: 0.7128\n",
            "Epoch 70/100\n",
            "484/484 [==============================] - 51s 106ms/step - loss: 1.5892 - accuracy: 0.7185\n",
            "Epoch 71/100\n",
            "484/484 [==============================] - 52s 108ms/step - loss: 1.5724 - accuracy: 0.7245\n",
            "Epoch 72/100\n",
            "484/484 [==============================] - 52s 107ms/step - loss: 1.5457 - accuracy: 0.7315\n",
            "Epoch 73/100\n",
            "484/484 [==============================] - 51s 105ms/step - loss: 1.5359 - accuracy: 0.7316\n",
            "Epoch 74/100\n",
            "484/484 [==============================] - 51s 106ms/step - loss: 1.5010 - accuracy: 0.7394\n",
            "Epoch 75/100\n",
            "484/484 [==============================] - 50s 104ms/step - loss: 1.4856 - accuracy: 0.7430\n",
            "Epoch 76/100\n",
            "484/484 [==============================] - 51s 105ms/step - loss: 1.4593 - accuracy: 0.7472\n",
            "Epoch 77/100\n",
            "484/484 [==============================] - 51s 105ms/step - loss: 1.4414 - accuracy: 0.7505\n",
            "Epoch 78/100\n",
            "484/484 [==============================] - 50s 104ms/step - loss: 1.4292 - accuracy: 0.7518\n",
            "Epoch 79/100\n",
            "484/484 [==============================] - 51s 105ms/step - loss: 1.4171 - accuracy: 0.7546\n",
            "Epoch 80/100\n",
            "484/484 [==============================] - 51s 105ms/step - loss: 1.4077 - accuracy: 0.7555\n",
            "Epoch 81/100\n",
            "484/484 [==============================] - 51s 106ms/step - loss: 1.3771 - accuracy: 0.7601\n",
            "Epoch 82/100\n",
            "484/484 [==============================] - 50s 104ms/step - loss: 1.3568 - accuracy: 0.7668\n",
            "Epoch 83/100\n",
            "484/484 [==============================] - 51s 105ms/step - loss: 1.3378 - accuracy: 0.7688\n",
            "Epoch 84/100\n",
            "484/484 [==============================] - 50s 104ms/step - loss: 1.3251 - accuracy: 0.7712\n",
            "Epoch 85/100\n",
            "484/484 [==============================] - 50s 104ms/step - loss: 1.3094 - accuracy: 0.7712\n",
            "Epoch 86/100\n",
            "484/484 [==============================] - 50s 104ms/step - loss: 1.2969 - accuracy: 0.7744\n",
            "Epoch 87/100\n",
            "484/484 [==============================] - 51s 104ms/step - loss: 1.2909 - accuracy: 0.7780\n",
            "Epoch 88/100\n",
            "484/484 [==============================] - 50s 103ms/step - loss: 1.2879 - accuracy: 0.7748\n",
            "Epoch 89/100\n",
            "484/484 [==============================] - 50s 104ms/step - loss: 1.2617 - accuracy: 0.7822\n",
            "Epoch 90/100\n",
            "484/484 [==============================] - 50s 103ms/step - loss: 1.2500 - accuracy: 0.7852\n",
            "Epoch 91/100\n",
            "484/484 [==============================] - 50s 104ms/step - loss: 1.2459 - accuracy: 0.7828\n",
            "Epoch 92/100\n",
            "484/484 [==============================] - 50s 104ms/step - loss: 1.2310 - accuracy: 0.7864\n",
            "Epoch 93/100\n",
            "484/484 [==============================] - 50s 104ms/step - loss: 1.2140 - accuracy: 0.7873\n",
            "Epoch 94/100\n",
            "484/484 [==============================] - 50s 104ms/step - loss: 1.1906 - accuracy: 0.7921\n",
            "Epoch 95/100\n",
            "484/484 [==============================] - 50s 103ms/step - loss: 1.1926 - accuracy: 0.7918\n",
            "Epoch 96/100\n",
            "484/484 [==============================] - 50s 104ms/step - loss: 1.1843 - accuracy: 0.7919\n",
            "Epoch 97/100\n",
            "484/484 [==============================] - 50s 104ms/step - loss: 1.1891 - accuracy: 0.7937\n",
            "Epoch 98/100\n",
            "484/484 [==============================] - 50s 104ms/step - loss: 1.1597 - accuracy: 0.7989\n",
            "Epoch 99/100\n",
            "484/484 [==============================] - 50s 104ms/step - loss: 1.1564 - accuracy: 0.7987\n",
            "Epoch 100/100\n",
            "484/484 [==============================] - 51s 104ms/step - loss: 1.1403 - accuracy: 0.7994\n"
          ],
          "name": "stdout"
        }
      ]
    },
    {
      "cell_type": "code",
      "metadata": {
        "id": "pg9BsjJ7_FmB",
        "colab_type": "code",
        "colab": {
          "base_uri": "https://localhost:8080/",
          "height": 545
        },
        "outputId": "4910f485-8fb0-42e9-c03f-e1ef75711ea8"
      },
      "source": [
        "import matplotlib.pyplot as plt\n",
        "acc = history.history['accuracy']\n",
        "loss = history.history['loss']\n",
        "\n",
        "epochs = range(len(acc))\n",
        "\n",
        "plt.plot(epochs, acc, 'b', label='Training accuracy')\n",
        "plt.title('Training accuracy')\n",
        "\n",
        "plt.figure()\n",
        "\n",
        "plt.plot(epochs, loss, 'b', label='Training Loss')\n",
        "plt.title('Training loss')\n",
        "plt.legend()\n",
        "\n",
        "plt.show()"
      ],
      "execution_count": 5,
      "outputs": [
        {
          "output_type": "display_data",
          "data": {
            "image/png": "[encoded data removed]",
            "text/plain": [
              "<Figure size 432x288 with 1 Axes>"
            ]
          },
          "metadata": {
            "tags": [],
            "needs_background": "light"
          }
        },
        {
          "output_type": "display_data",
          "data": {
            "image/png": "[encoded data removed]",
            "text/plain": [
              "<Figure size 432x288 with 1 Axes>"
            ]
          },
          "metadata": {
            "tags": [],
            "needs_background": "light"
          }
        }
      ]
    },
    {
      "cell_type": "code",
      "metadata": {
        "id": "J9yri-Vc_JeX",
        "colab_type": "code",
        "colab": {
          "base_uri": "https://localhost:8080/",
          "height": 54
        },
        "outputId": "dae2471a-45a0-4d2a-cef7-9aa015532013"
      },
      "source": [
        "seed_text = \"Help me Obi Wan Kenobi, you're my only hope\"\n",
        "next_words = 100\n",
        "  \n",
        "for _ in range(next_words):\n",
        "\ttoken_list = tokenizer.texts_to_sequences([seed_text])[0]\n",
        "\ttoken_list = pad_sequences([token_list], maxlen=max_sequence_len-1, padding='pre')\n",
        "\tpredicted = model.predict_classes(token_list, verbose=0)\n",
        "\toutput_word = \"\"\n",
        "\tfor word, index in tokenizer.word_index.items():\n",
        "\t\tif index == predicted:\n",
        "\t\t\toutput_word = word\n",
        "\t\t\tbreak\n",
        "\tseed_text += \" \" + output_word\n",
        "print(seed_text)"
      ],
      "execution_count": 8,
      "outputs": [
        {
          "output_type": "stream",
          "text": [
            "Help me Obi Wan Kenobi, you're my only hope must let my good end tend shines lived away bright live quite thence free free show me still ill young to find alone truly leave it last so decay young men exceed ride forth me so ill new new new cheeks cheeks cheeks due doth me thine alone call his change thine thine ' die there with hence effect so ill lack mad new foes fitted defaced sit young days ' did go with her even did find find live young in love hate new foes dyed made so due lies none bright live bright show thee so foes decay\n"
          ],
          "name": "stdout"
        }
      ]
    },
    {
      "cell_type": "code",
      "metadata": {
        "id": "mV1J86L8_L2X",
        "colab_type": "code",
        "colab": {}
      },
      "source": [
        ""
      ],
      "execution_count": null,
      "outputs": []
    }
  ]
}